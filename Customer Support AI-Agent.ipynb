{
 "cells": [
  {
   "cell_type": "markdown",
   "metadata": {
    "id": "d7f4CY4eI9f0"
   },
   "source": [
    "# Project"
   ]
  },
  {
   "cell_type": "markdown",
   "metadata": {
    "id": "3XA8HMurJaPt"
   },
   "source": [
    "## Customer Supprt Agent\n",
    "### StateManagemnt\n"
   ]
  },
  {
   "cell_type": "markdown",
   "metadata": {
    "id": "zP2XdFor46m9"
   },
   "source": [
    "**KEY COMPONENETS**:\\n\n",
    "-> **State Management**: Using TypedDict to define and manage the state of each customer interaction/ Agent\\n\n",
    "-> **Query Categorization **: Classify customer quries into Techinical, Billing or General categories∇\n",
    "-> **Statement analysis** : Determinig the emotional tone of customer queries.\n",
    "-> **Reponse Generation **: creating appropriate responses based on the query\n",
    "-> **Escalatio Mechanism** : Automatically Escalating queries with negative , positive or neutral sentiment to humanagents.\n",
    "->** WorkFlow Graph** : Utilizaing Langraph to create flexible and extensible workflow\n"
   ]
  },
  {
   "cell_type": "markdown",
   "metadata": {
    "id": "E_erf5kG6HLm"
   },
   "source": [
    "** Methods *:\\\n",
    "**Initializa:**  Set up the enviornment and import necessary libraries.\n",
    "**State Definition:** Create a structure to hold query information, category, sentiment, and response.\n",
    "**Node Functions:** Implement seperate functions for categorization, senttiment analysis, and response generation.\n",
    "**Graph Construction:** Use StateGraph to define the workflow, adding nodes and edges to represent the support process.\n",
    "**Conditional Routing:** Implement logic to route queries based on their category and sentiment.\n",
    "**Workflow Compilation:** Compile the graph into an executable application.\n",
    "**Execution:**  Process customer queries through the workflow and retrieve results.\n"
   ]
  },
  {
   "cell_type": "markdown",
   "metadata": {
    "id": "KktQdrc1Z2Dj"
   },
   "source": [
    "!pip install -q -U\n",
    "\n",
    "1.   langchain_google_genai  ||\n",
    "2.   langchain_groq\n",
    "\n"
   ]
  },
  {
   "cell_type": "markdown",
   "metadata": {
    "id": "umUwzJfcktn3"
   },
   "source": [
    "**Install Dependencies**\n",
    "!langchain-google-genai || langchain_groq"
   ]
  },
  {
   "cell_type": "code",
   "execution_count": 24,
   "metadata": {
    "executionInfo": {
     "elapsed": 10002,
     "status": "ok",
     "timestamp": 1742035394141,
     "user": {
      "displayName": "Asif Ali",
      "userId": "15704950221848623206"
     },
     "user_tz": -300
    },
    "id": "a-MFwn2Y6ACP"
   },
   "outputs": [],
   "source": [
    "!pip install -q -U langchain langgraph langchain_core  langchain_community langchain_google_genai"
   ]
  },
  {
   "cell_type": "code",
   "execution_count": 25,
   "metadata": {
    "colab": {
     "base_uri": "https://localhost:8080/"
    },
    "executionInfo": {
     "elapsed": 2858,
     "status": "ok",
     "timestamp": 1742035397057,
     "user": {
      "displayName": "Asif Ali",
      "userId": "15704950221848623206"
     },
     "user_tz": -300
    },
    "id": "DSDu8g9P0y0H",
    "outputId": "85c3155e-e59a-495d-dd47-2c115b6dbe9a"
   },
   "outputs": [
    {
     "data": {
      "text/plain": [
       "AIMessage(content='Contactless refers to technologies that allow interaction without physical touch, typically using radio waves or other short-range wireless communication.', additional_kwargs={}, response_metadata={'prompt_feedback': {'block_reason': 0, 'safety_ratings': []}, 'finish_reason': 'STOP', 'safety_ratings': []}, id='run-4514d386-1e66-45f8-a923-7264aec1fca3-0', usage_metadata={'input_tokens': 8, 'output_tokens': 25, 'total_tokens': 33, 'input_token_details': {'cache_read': 0}})"
      ]
     },
     "execution_count": 25,
     "metadata": {},
     "output_type": "execute_result"
    }
   ],
   "source": [
    "from google.colab import userdata\n",
    "from langchain_google_genai import ChatGoogleGenerativeAI\n",
    "\n",
    "# Retrieve the API key securely\n",
    "api_key = userdata.get('GOOGLE_API_KEY')\n",
    "\n",
    "# Initialize the ChatGoogleGenerativeAI object\n",
    "llm = ChatGoogleGenerativeAI(\n",
    "    tempreature=0,\n",
    "    model=\"gemini-1.5-flash\",\n",
    "    api_key=api_key\n",
    ")\n",
    "\n",
    "llm.invoke(f\"What is contactless  , give short answer\")\n",
    "\n"
   ]
  },
  {
   "cell_type": "code",
   "execution_count": 26,
   "metadata": {
    "executionInfo": {
     "elapsed": 15,
     "status": "ok",
     "timestamp": 1742035397110,
     "user": {
      "displayName": "Asif Ali",
      "userId": "15704950221848623206"
     },
     "user_tz": -300
    },
    "id": "P5SPo6dAAQO5"
   },
   "outputs": [],
   "source": [
    "# State Management: Using TypedDict to define and manage the state of each customer/ Agent interaction.\n",
    "from typing import TypedDict, Dict\n",
    "from langchain.prompts import ChatPromptTemplate\n",
    "\n",
    "class State(TypedDict):\n",
    "  query: str\n",
    "  category: str\n",
    "  sentiment: str\n",
    "  response: str\n",
    "\n",
    "# Query Categorization *: Classify customer quries into Techinical, Billing or General categories\n",
    "\n",
    "def categorize(state:State) -> State:\n",
    "  \"Technical, Billing, General\"\n",
    "  prompt = ChatPromptTemplate.from_template(\n",
    "      \"You are great assistance. Your roll is Customer Support Agent.Categorize the following  customer query into one of these catagories\"\n",
    "      \"Technical, Billing, General. Query: {query}\"\n",
    "  )\n",
    "  chain = prompt | llm\n",
    "  category = chain.invoke({\"query\": state[\"query\"]}).content\n",
    "  return {\"category\": category}\n",
    "\n",
    "# Escalatio Mechanism : Automatically Escalating queries with negative , positive or neutral sentiment to humanagents\n",
    "def analyze_sentiment(state: State)-> State:\n",
    "  prompt = ChatPromptTemplate.from_template(\n",
    "      \" You are great assistance. Your roll is Customer Support Agent.Analize the sentiment of customer query\"\n",
    "      \"response with either Negative, Positive, Neutral. Query: {query}\"\n",
    "  )\n",
    "  chain = prompt | llm\n",
    "  sentiment = chain.invoke({\"query\": state[\"query\"]}).content\n",
    "  return {\"sentiment\": sentiment}\n",
    "\n",
    "def handle_technical(state:State)-> State:\n",
    "  prompt = ChatPromptTemplate.from_template(\n",
    "      \"provide technical support response to the following query: {query}\"\n",
    "  )\n",
    "  chain = prompt | llm\n",
    "  response = chain.invoke({\"query\": state[\"query\"]}).content\n",
    "  return {\"response\": response}\n",
    "\n",
    "def handle_billing(state:State)-> State:\n",
    "  prompt = ChatPromptTemplate.from_template(\n",
    "      \"provide billing support  response to the folowing query: {query}\"\n",
    "  )\n",
    "  chain = prompt | llm\n",
    "  response = chain.invoke({\"query\": state[\"query\"]}).content\n",
    "  return {\"response\": response}\n",
    "\n",
    "def handle_general(state:State)-> State:\n",
    "  prompt = ChatPromptTemplate.from_template(\n",
    "      \"provide general support  response to the following query: {query}\"\n",
    "  )\n",
    "  chain = prompt | llm\n",
    "  response = chain.invoke({\"query\": state[\"query\"]}).content\n",
    "  return {\"response\": response}\n",
    "\n",
    "def escalate(state: State)-> State:\n",
    "    return {\"response\": \"This query has been escalate to human agent due to its negative sentiment\"}\n",
    "\n",
    "\n",
    "def route_query(state: State) -> State:\n",
    "  if state[\"sentiment\"] == \"Negative\":\n",
    "    return \"escalate\"\n",
    "  elif state[\"category\"] == \"Technical\":\n",
    "    return \"handle_technical\"\n",
    "  elif state[\"category\"] == \"Billing\":\n",
    "    return \"handle_billing\"\n",
    "  else:\n",
    "    return \"handle_general\"\n"
   ]
  },
  {
   "cell_type": "markdown",
   "metadata": {
    "id": "tV4-Q3smAZMM"
   },
   "source": [
    "**Create a configure Graph** Create Nodes for the graph"
   ]
  },
  {
   "cell_type": "code",
   "execution_count": 27,
   "metadata": {
    "executionInfo": {
     "elapsed": 16,
     "status": "ok",
     "timestamp": 1742035397146,
     "user": {
      "displayName": "Asif Ali",
      "userId": "15704950221848623206"
     },
     "user_tz": -300
    },
    "id": "AH4ycDNZJsqw"
   },
   "outputs": [],
   "source": [
    "from langgraph.graph import StateGraph, END\n",
    "from langchain_core.runnables.graph import MermaidDrawMethod\n",
    "from IPython.display import display, Image\n",
    "workflow = StateGraph(State)\n",
    "\n",
    "# start node\n",
    "workflow.add_node(\"categorize\", categorize)\n",
    "workflow.add_node(\"analyze_sentiment\", analyze_sentiment)\n",
    "workflow.add_node(\"handle_technical\", handle_technical)\n",
    "workflow.add_node(\"handle_billing\", handle_billing)\n",
    "workflow.add_node(\"handle_general\", handle_general)\n",
    "workflow.add_node(\"escalate\", escalate)\n",
    "\n",
    "# Edges\n",
    "workflow.add_edge(\"categorize\",\"analyze_sentiment\")\n",
    "workflow.add_conditional_edges(\n",
    "    \"analyze_sentiment\",\n",
    "    route_query,{\n",
    "        \"handle_technical\" : \"handle_technical\",\n",
    "        \"handle_billing\" : \"handle_billing\",\n",
    "        \"handle_general\" : \"handle_general\",\n",
    "        \"escalate\" : \"escalate\"\n",
    "    }\n",
    ")\n",
    "\n",
    "workflow.add_edge(\"handle_technical\", END)\n",
    "workflow.add_edge(\"handle_billing\", END)\n",
    "workflow.add_edge(\"handle_general\", END)\n",
    "workflow.add_edge(\"escalate\", END)\n",
    "\n",
    "workflow.set_entry_point(\"categorize\")\n",
    "app = workflow.compile()"
   ]
  },
  {
   "cell_type": "markdown",
   "metadata": {
    "id": "vaY93y-jK912"
   },
   "source": [
    "**### Visulaze the complied Graph**"
   ]
  },
  {
   "cell_type": "code",
   "execution_count": 28,
   "metadata": {
    "colab": {
     "base_uri": "https://localhost:8080/",
     "height": 420
    },
    "executionInfo": {
     "elapsed": 354,
     "status": "ok",
     "timestamp": 1742035397503,
     "user": {
      "displayName": "Asif Ali",
      "userId": "15704950221848623206"
     },
     "user_tz": -300
    },
    "id": "6UB2b18_LIB1",
    "outputId": "14fe33d7-35b8-4f1a-ea90-58a484b9fe28"
   },
   "outputs": [
    {
     "data": {
      "image/png": "[encoded data removed]",
      "text/plain": [
       "<IPython.core.display.Image object>"
      ]
     },
     "metadata": {},
     "output_type": "display_data"
    }
   ],
   "source": [
    "display(\n",
    "    Image(\n",
    "        app.get_graph().draw_mermaid_png(\n",
    "            draw_method=MermaidDrawMethod.API\n",
    "        )\n",
    "    )\n",
    ")"
   ]
  },
  {
   "cell_type": "markdown",
   "metadata": {
    "id": "wxnOZNChVbMQ"
   },
   "source": [
    "### **Fianly Customer Service function to take queries**"
   ]
  },
  {
   "cell_type": "code",
   "execution_count": 29,
   "metadata": {
    "executionInfo": {
     "elapsed": 38,
     "status": "ok",
     "timestamp": 1742035397546,
     "user": {
      "displayName": "Asif Ali",
      "userId": "15704950221848623206"
     },
     "user_tz": -300
    },
    "id": "-SVtyEYlYBd-"
   },
   "outputs": [],
   "source": [
    "def run_customer_support(query:str)->Dict[str,str]:\n",
    "  results = app.invoke({\"query\": query})\n",
    "  return {\n",
    "      \"category\":results[\"category\"],  # Changed 'categoery' to 'category'\n",
    "      \"sentiment\":results[\"sentiment\"],\n",
    "      \"response\":results[\"response\"]\n",
    "  }\n",
    "# ======================\n",
    "# class State(TypedDict):\n",
    "#   query: str\n",
    "#   category: str\n",
    "#   sentiment: str\n",
    "#   response: str"
   ]
  },
  {
   "cell_type": "code",
   "execution_count": 30,
   "metadata": {
    "colab": {
     "base_uri": "https://localhost:8080/"
    },
    "executionInfo": {
     "elapsed": 2936,
     "status": "ok",
     "timestamp": 1742035400487,
     "user": {
      "displayName": "Asif Ali",
      "userId": "15704950221848623206"
     },
     "user_tz": -300
    },
    "id": "VtmtVmGTXqIj",
    "outputId": "f405c815-46bb-439f-a5cf-6c8de387291a"
   },
   "outputs": [
    {
     "data": {
      "text/plain": [
       "{'category': 'Technical',\n",
       " 'sentiment': 'Negative.  The customer is expressing a problem (slow internet connection) and requesting assistance, indicating dissatisfaction with the current service.',\n",
       " 'response': 'Subject: Re: Slow Internet Connection\\n\\nHi [Customer Name],\\n\\nThanks for contacting us about your slow internet connection.  To help me troubleshoot this effectively, I need some more information. Please tell me:\\n\\n* **What is your internet service provider (ISP)?** (e.g., Comcast, Verizon, AT&T)\\n* **What type of connection do you have?** (e.g., DSL, Cable, Fiber, Satellite)\\n* **What speeds are you paying for?** (e.g., 100 Mbps, 1 Gbps)\\n* **What devices are experiencing slow speeds?** (e.g., laptop, desktop, phone, smart TV)\\n* **Are all devices experiencing slow speeds, or just some?**\\n* **When did the slow speeds start?**  Was there a recent change (new device, software update, etc.)?\\n* **Can you describe the slowness?** (e.g., pages load slowly, videos buffer constantly, high latency in online games)\\n* **Have you tried restarting your modem and router?**  This is often the first step in resolving connectivity issues.  Unplug both devices from the power outlet, wait 30 seconds, plug the modem back in, wait for it to fully power up, then plug the router back in.\\n* **What is the signal strength on your Wi-Fi network?** (If applicable)  Many devices show signal strength as bars or percentages.\\n\\n\\nOnce I have this information, I can provide more specific troubleshooting steps.  In the meantime, running a speed test (search online for \"internet speed test\") can help determine your actual download and upload speeds.  Providing the results of the speed test will also be helpful.\\n\\n\\nWe look forward to hearing back from you so we can assist you further.\\n\\nSincerely,\\n\\n[Your Name/Company Name]'}"
      ]
     },
     "execution_count": 30,
     "metadata": {},
     "output_type": "execute_result"
    }
   ],
   "source": [
    "run_customer_support(\"My internate connection is slow. Can you help \")"
   ]
  },
  {
   "cell_type": "markdown",
   "metadata": {
    "id": "QhXrziWVoyIx"
   },
   "source": []
  },
  {
   "cell_type": "code",
   "execution_count": 31,
   "metadata": {
    "colab": {
     "base_uri": "https://localhost:8080/"
    },
    "executionInfo": {
     "elapsed": 7041,
     "status": "ok",
     "timestamp": 1742035407548,
     "user": {
      "displayName": "Asif Ali",
      "userId": "15704950221848623206"
     },
     "user_tz": -300
    },
    "id": "8THS-zptouut",
    "outputId": "6bd8729c-af59-4e83-bd18-c60a6856c0cc"
   },
   "outputs": [
    {
     "name": "stderr",
     "output_type": "stream",
     "text": [
      "WARNING:langchain_google_genai.chat_models:Retrying langchain_google_genai.chat_models._chat_with_retry.<locals>._chat_with_retry in 2.0 seconds as it raised InternalServerError: 500 Internal error encountered..\n"
     ]
    },
    {
     "name": "stdout",
     "output_type": "stream",
     "text": [
      "Query:My internate connection is slow. Can you help?   \n",
      "Category: Technical\n",
      "Sentiment: Negative.  The customer is expressing a problem (slow internet) and requesting assistance, indicating dissatisfaction with the current service.\n",
      "Response: Subject: Re: Slow Internet Connection\n",
      "\n",
      "Thanks for contacting us about your slow internet connection.  To help me troubleshoot this effectively, I need some more information. Please tell me:\n",
      "\n",
      "* **What is your internet service provider (ISP)?** (e.g., Comcast, Verizon, AT&T)\n",
      "* **What type of internet connection do you have?** (e.g., DSL, Cable, Fiber, Satellite)\n",
      "* **What is the speed you are paying for?** (e.g., 100 Mbps, 1 Gbps)\n",
      "* **What devices are experiencing the slow connection?** (e.g., all devices, just your laptop, etc.)\n",
      "* **Are all websites/applications slow, or just specific ones?** If specific, please provide examples.\n",
      "* **What is the approximate speed you are currently experiencing?** (You can use a speed test website like speedtest.net or fast.com to check.)\n",
      "* **Have you recently made any changes to your network, such as adding new devices, changing passwords, or installing new software?**\n",
      "* **Have you tried restarting your modem and router?**  (Unplug them from power for at least 30 seconds, then plug them back in.)\n",
      "\n",
      "Once I have this information, I can provide more specific troubleshooting steps.  In the meantime, you can try the following:\n",
      "\n",
      "* **Close any unnecessary applications or browser tabs.**  These can consume bandwidth.\n",
      "* **Check for malware or viruses on your devices.**  Infections can significantly impact internet speed.\n",
      "* **Run a network diagnostic tool**  (Your operating system likely has one built-in).\n",
      "\n",
      "\n",
      "We look forward to hearing back from you with the requested information so we can assist you further.\n",
      "\n",
      "\n"
     ]
    }
   ],
   "source": [
    "# query = \"hi thanks for support. where I can find receip?   \"\n",
    "query = \"My internate connection is slow. Can you help?   \"\n",
    "results = run_customer_support(query)\n",
    "\n",
    "print(f\"Query:{query}\")\n",
    "print(f\"Category: {results['category']}\")\n",
    "print(f\"Sentiment: {results['sentiment']}\")\n",
    "print(f\"Response: {results['response']}\")\n",
    "print(\"\\n\")\n",
    "\n"
   ]
  },
  {
   "cell_type": "code",
   "execution_count": 32,
   "metadata": {
    "colab": {
     "base_uri": "https://localhost:8080/"
    },
    "executionInfo": {
     "elapsed": 378,
     "status": "ok",
     "timestamp": 1742035407930,
     "user": {
      "displayName": "Asif Ali",
      "userId": "15704950221848623206"
     },
     "user_tz": -300
    },
    "id": "NbneWhdarPci",
    "outputId": "23d41bad-57f1-4a46-ef31-20f1e9652207"
   },
   "outputs": [
    {
     "name": "stdout",
     "output_type": "stream",
     "text": [
      "Query:what is microsoft dymanic 365 functional consultant?   \n",
      "Category: General\n",
      "Sentiment: The sentiment of the query \"What is a Microsoft Dynamics 365 Functional Consultant?\" is **General**.  It's a straightforward informational request, not expressing positive or negative feelings.\n",
      "Response: A Microsoft Dynamics 365 Functional Consultant is a business and technology professional who helps organizations implement and optimize Microsoft Dynamics 365 solutions.  They bridge the gap between business needs and the technical capabilities of the software.  Their role focuses on understanding a client's business processes, mapping those processes to Dynamics 365 functionalities, and configuring the system to meet specific requirements. This often includes things like data migration, process automation, system integration, and user training.  Essentially, they ensure the software effectively solves the client's business problems.  They are less involved in the technical coding aspects of the system and more focused on the functional design and implementation.\n",
      "\n",
      "\n"
     ]
    }
   ],
   "source": [
    "query = \"what is microsoft dymanic 365 functional consultant?   \"\n",
    "results = run_customer_support(query)\n",
    "\n",
    "print(f\"Query:{query}\")\n",
    "print(f\"Category: {results['category']}\")\n",
    "print(f\"Sentiment: {results['sentiment']}\")\n",
    "print(f\"Response: {results['response']}\")\n",
    "print(\"\\n\")\n"
   ]
  },
  {
   "cell_type": "code",
   "execution_count": 32,
   "metadata": {
    "executionInfo": {
     "elapsed": 36,
     "status": "ok",
     "timestamp": 1742035407986,
     "user": {
      "displayName": "Asif Ali",
      "userId": "15704950221848623206"
     },
     "user_tz": -300
    },
    "id": "XpTWRD4i7Alk"
   },
   "outputs": [],
   "source": []
  },
  {
   "cell_type": "code",
   "execution_count": 33,
   "metadata": {
    "executionInfo": {
     "elapsed": 9116,
     "status": "ok",
     "timestamp": 1742035417106,
     "user": {
      "displayName": "Asif Ali",
      "userId": "15704950221848623206"
     },
     "user_tz": -300
    },
    "id": "TPY5dNpjpaxj"
   },
   "outputs": [],
   "source": [
    "! pip install -q -U gradio"
   ]
  },
  {
   "cell_type": "markdown",
   "metadata": {
    "id": "qfNk87BoP4vi"
   },
   "source": [
    "### Braod casting code\n",
    "### run project through CLI and sent"
   ]
  },
  {
   "cell_type": "code",
   "execution_count": 34,
   "metadata": {
    "colab": {
     "base_uri": "https://localhost:8080/",
     "height": 645
    },
    "executionInfo": {
     "elapsed": 1653,
     "status": "ok",
     "timestamp": 1742035418732,
     "user": {
      "displayName": "Asif Ali",
      "userId": "15704950221848623206"
     },
     "user_tz": -300
    },
    "id": "7n1EXdNGPwsE",
    "outputId": "8b930a5f-2bab-49a0-ba96-9e88fe4acf46"
   },
   "outputs": [
    {
     "name": "stdout",
     "output_type": "stream",
     "text": [
      "Running Gradio in a Colab notebook requires sharing enabled. Automatically setting `share=True` (you can turn this off by setting `share=False` in `launch()` explicitly).\n",
      "\n",
      "Colab notebook detected. To show errors in colab notebook, set debug=True in launch()\n",
      "* Running on public URL: https://f7c9ab5920481422da.gradio.live\n",
      "\n",
      "This share link expires in 72 hours. For free permanent hosting and GPU upgrades, run `gradio deploy` from the terminal in the working directory to deploy to Hugging Face Spaces (https://huggingface.co/spaces)\n"
     ]
    },
    {
     "data": {
      "text/html": [
       "<div><iframe src=\"https://f7c9ab5920481422da.gradio.live\" width=\"100%\" height=\"500\" allow=\"autoplay; camera; microphone; clipboard-read; clipboard-write;\" frameborder=\"0\" allowfullscreen></iframe></div>"
      ],
      "text/plain": [
       "<IPython.core.display.HTML object>"
      ]
     },
     "metadata": {},
     "output_type": "display_data"
    }
   ],
   "source": [
    "\n",
    "import gradio as gr\n",
    "\n",
    "def run_customer_support(query: str) -> Dict[str, str]:\n",
    "    results = app.invoke({\"query\": query})\n",
    "    return {\n",
    "        \"Category\": results['category'],\n",
    "        \"Sentiment\": results['sentiment'],\n",
    "        \"Response\": results['response']\n",
    "    }\n",
    "\n",
    "# Create the Gradio interface\n",
    "def gradio_interface(query: str):\n",
    "    result = run_customer_support(query)\n",
    "    return (\n",
    "        f\"**Category:** {result['Category']}\\n\\n\"\n",
    "        f\"**Sentiment:** {result['Sentiment']}\\n\\n\"\n",
    "        f\"**Response:** {result['Response']}\"\n",
    "    )\n",
    "\n",
    "# Build the Gradio app\n",
    "gui = gr.Interface(\n",
    "    fn=gradio_interface,\n",
    "    theme='Yntec/HaleyCH_Theme_Orange_Green',\n",
    "    inputs=gr.Textbox(lines=2, placeholder=\"Enter your query here...\"),\n",
    "    outputs=gr.Markdown(),\n",
    "    title=\"Customer Support Assistant\",\n",
    "    description=\"Provide a query and receive a categorized response. The system analyzes sentiment and routes to the appropriate support channel.\",\n",
    ")\n",
    "\n",
    "# Launch the app\n",
    "if __name__ == \"__main__\":\n",
    "    gui.launch()"
   ]
  }
 ],
 "metadata": {
  "colab": {
   "authorship_tag": "ABX9TyMDUiUWC/UgX2Wjn0BMOis6",
   "provenance": []
  },
  "kernelspec": {
   "display_name": "Python 3",
   "name": "python3"
  },
  "language_info": {
   "name": "python"
  }
 },
 "nbformat": 4,
 "nbformat_minor": 0
}
